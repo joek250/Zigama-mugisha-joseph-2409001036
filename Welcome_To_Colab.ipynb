{
  "cells": [
    {
      "cell_type": "markdown",
      "metadata": {
        "id": "view-in-github",
        "colab_type": "text"
      },
      "source": [
        "<a href=\"https://colab.research.google.com/github/joek250/Zigama-mugisha-joseph-2409001036/blob/main/Welcome_To_Colab.ipynb\" target=\"_parent\"><img src=\"https://colab.research.google.com/assets/colab-badge.svg\" alt=\"Open In Colab\"/></a>"
      ]
    },
    {
      "cell_type": "code",
      "source": [
        "!pip install cryptography"
      ],
      "metadata": {
        "id": "mhqbky9XgUJK",
        "outputId": "078dd051-94ae-4ab5-bc5e-bb4d3489c567",
        "colab": {
          "base_uri": "https://localhost:8080/"
        }
      },
      "execution_count": 3,
      "outputs": [
        {
          "output_type": "stream",
          "name": "stdout",
          "text": [
            "Requirement already satisfied: cryptography in /usr/local/lib/python3.11/dist-packages (43.0.3)\n",
            "Requirement already satisfied: cffi>=1.12 in /usr/local/lib/python3.11/dist-packages (from cryptography) (1.17.1)\n",
            "Requirement already satisfied: pycparser in /usr/local/lib/python3.11/dist-packages (from cffi>=1.12->cryptography) (2.22)\n"
          ]
        }
      ]
    },
    {
      "cell_type": "code",
      "source": [
        "offensive_words = [\"hate\", \"racist\", \"sexist\", \"attack\", \"violence\"]\n",
        "\n",
        "# Function to detect hate speech\n",
        "def detect_hate_speech(text):\n",
        "    detected_words = [word for word in offensive_words if word in text.lower()]\n",
        "    return detected_words\n",
        "\n",
        "# Example usage\n",
        "speeh = \"The Tutsis are like cockroaches, they must be exterminated, they must be killed, and we, the Hutus, will be the ones to do it. We must carry out our revolution\"\n",
        "hate_words = detect_hate_speech(text)\n",
        "if hate_words:\n",
        "    print(\"Hate speech detected! Offensive words:\", hate_words)\n",
        "else:\n",
        "    print(\"No hate speech detected.\")"
      ],
      "metadata": {
        "id": "lURO7M1sglU8"
      },
      "execution_count": null,
      "outputs": []
    }
  ],
  "metadata": {
    "colab": {
      "name": "Welcome To Colab",
      "toc_visible": true,
      "provenance": [],
      "include_colab_link": true
    },
    "kernelspec": {
      "display_name": "Python 3",
      "name": "python3"
    }
  },
  "nbformat": 4,
  "nbformat_minor": 0
}